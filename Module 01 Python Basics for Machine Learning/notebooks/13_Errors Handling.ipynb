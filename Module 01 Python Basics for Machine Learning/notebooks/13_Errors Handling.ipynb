{
 "cells": [
  {
   "cell_type": "markdown",
   "id": "eacde316-78d1-4b51-970d-d6317fe2d80c",
   "metadata": {},
   "source": [
    "# Python for Health Data Science (PY4HDS) - Errors Handling \n",
    "*Lectured by [Md. Jubayer Hossain](https://hossainlab.github.io/) | Course  & Materials Designed by [Md. Jubayer Hossain](https://hossainlab.github.io/)*\n",
    "\n",
    "## Topics \n",
    "- Topic 1 \n",
    "- Topic 2 "
   ]
  },
  {
   "cell_type": "markdown",
   "id": "8e30bf39-8f2f-4739-9199-3e605796a354",
   "metadata": {},
   "source": [
    "*Copyright &copy; 2023  [Md. Jubayer Hossain](https://hossainlab.github.io/) &  [Center for Health Innovation, Research, Action and Learning - Bangladesh (CHIRAL Bangladesh) ](https://www.chiralbd.org/). All rights reserved*"
   ]
  }
 ],
 "metadata": {
  "kernelspec": {
   "display_name": "Python 3 (ipykernel)",
   "language": "python",
   "name": "python3"
  },
  "language_info": {
   "codemirror_mode": {
    "name": "ipython",
    "version": 3
   },
   "file_extension": ".py",
   "mimetype": "text/x-python",
   "name": "python",
   "nbconvert_exporter": "python",
   "pygments_lexer": "ipython3",
   "version": "3.9.12"
  },
  "widgets": {
   "application/vnd.jupyter.widget-state+json": {
    "state": {},
    "version_major": 2,
    "version_minor": 0
   }
  }
 },
 "nbformat": 4,
 "nbformat_minor": 5
}
