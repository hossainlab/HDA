{
 "cells": [
  {
   "cell_type": "markdown",
   "id": "0b41d885-ebc5-424d-be97-900a210696a3",
   "metadata": {},
   "source": [
    "# Python for Health Data Science (PY4HDS) - Files Handling \n",
    "*Lectured by [Md. Jubayer Hossain](https://hossainlab.github.io/) | Course  & Materials Designed by [Md. Jubayer Hossain](https://hossainlab.github.io/)*\n",
    "\n",
    "## Topics \n",
    "- Topic 1 \n",
    "- Topic 2 "
   ]
  },
  {
   "cell_type": "markdown",
   "id": "f71b28ad-e3e7-46e7-ba9c-10a31f05f0e2",
   "metadata": {},
   "source": [
    "*Copyright &copy; 2023  [Md. Jubayer Hossain](https://hossainlab.github.io/) &  [Center for Health Innovation, Research, Action and Learning - Bangladesh (CHIRAL Bangladesh) ](https://www.chiralbd.org/). All rights reserved*"
   ]
  }
 ],
 "metadata": {
  "kernelspec": {
   "display_name": "Python 3 (ipykernel)",
   "language": "python",
   "name": "python3"
  },
  "language_info": {
   "codemirror_mode": {
    "name": "ipython",
    "version": 3
   },
   "file_extension": ".py",
   "mimetype": "text/x-python",
   "name": "python",
   "nbconvert_exporter": "python",
   "pygments_lexer": "ipython3",
   "version": "3.9.12"
  },
  "widgets": {
   "application/vnd.jupyter.widget-state+json": {
    "state": {},
    "version_major": 2,
    "version_minor": 0
   }
  }
 },
 "nbformat": 4,
 "nbformat_minor": 5
}
